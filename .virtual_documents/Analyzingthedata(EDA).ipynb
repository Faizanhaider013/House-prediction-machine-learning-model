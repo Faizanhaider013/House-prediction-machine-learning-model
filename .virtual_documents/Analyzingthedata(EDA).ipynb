import pandas as pd


data=pd.read_csv("housing.csv")


data


data.head()


data.info()


data.describe()


data['ocean_proximity'].value_counts()



data.describe()


data


import matplotlib.pyplot as plt


data.hist(bins=50,figsize=(12,8))


import numpy as np
def shuffle_and_split(data,test_ratio):
    shuffle_indices=np.random.permutation(len(data))


d=[1,2,3,4,5,6]



c=shuffle_and_split(d,0.4)


c



