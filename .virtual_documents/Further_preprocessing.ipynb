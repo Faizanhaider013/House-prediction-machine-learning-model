import pandas as pd


data=pd.read_csv("housing.csv")


data['income_cut']=pd.cut(data['median_income'], bins=[0,1.5,3.0,4.5,6.0,np.inf],labels=[1,2,3,4,5])


for sett in (strat_train_set, strat_test_set):
    sett.drop("income_cat", axis=1, inplace=True, errors="ignore")


df=strat_train_set.copy()


df


housing=strat_train_set.drop("median_house_value",axis=1)
housing_label=strat_train_set["median_house_value"]


housing


housing_label


from sklearn.impute import SimpleImputer
imputer=SimpleImputer(strategy="median")


housing_num=housing.select_dtypes(include=[np.number])


imputer.fit(housing_num)


X=imputer.transform(housing_num)


X


housing=pd.DataFrame(columns=housing_num.columns,index=housing_num.index)


housing


housing["ocean
