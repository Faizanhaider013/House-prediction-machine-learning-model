import pandas as pd


data=pd.read_csv("housing.csv")


data['income_cut']=pd.cut(data['median_income'], bins=[0,1.5,3.0,4.5,6.0,np.inf],labels=[1,2,3,4,5])


for sett in (strat_train_set, strat_test_set):
    sett.drop("income_cat", axis=1, inplace=True, errors="ignore")





strat_train_set


strat_test_set


df=strat_train_set



df


df.drop("ocean_proximity",inplace=True,axis=1)


df.corr()




































