import pandas as pd


data=pd.read_csv("housing.csv")


data


data.head()


data.info()


data.describe()


data['ocean_proximity'].value_counts()



data.describe()


data


import matplotlib.pyplot as plt


data.hist(bins=50,figsize=(12,8))



